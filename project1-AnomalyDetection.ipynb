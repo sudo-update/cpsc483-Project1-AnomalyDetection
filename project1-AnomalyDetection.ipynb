{
 "cells": [
  {
   "cell_type": "markdown",
   "id": "932a5de3",
   "metadata": {},
   "source": [
    "Fall 2021 - CPSC 483-02\n",
    "Project 1 - Anomaly Detection\n",
    "Sean Javiya\n",
    "Jake Wong"
   ]
  },
  {
   "cell_type": "code",
   "execution_count": 18,
   "id": "ffa6769a",
   "metadata": {},
   "outputs": [
    {
     "name": "stdout",
     "output_type": "stream",
     "text": [
      "There are 35 students in the 5 week course.\n"
     ]
    },
    {
     "data": {
      "text/plain": [
       "(['Student Name', 'Week 1', 'Week 2', 'Week 3', 'Week 4', 'Week 5'],\n",
       " [['Adrian Ellison', '77', '154', '4', '170', '175'],\n",
       "  ['Ophelia Mcphee', '179', '151', '164', '173', '171'],\n",
       "  ['Yasir Fenton', '180', '47', '164', '168', '169'],\n",
       "  ['Benny Arias', '180', '152', '161', '170', '170'],\n",
       "  ['Tamara Cottrell', '183', '79', '161', '173', '168'],\n",
       "  ['Jada Calhoun', '178', '147', '162', '171', '175'],\n",
       "  ['Marlene Parry', '174', '150', '159', '171', '170'],\n",
       "  ['Jazmin Foreman', '181', '103', '157', '172', '35'],\n",
       "  ['Bear Zuniga', '180', '131', '160', '170', '182'],\n",
       "  ['Sanjay Edwards', '173', '154', '161', '171', '66'],\n",
       "  ['Vicki Person', '178', '156', '161', '172', '173'],\n",
       "  ['Teegan Fleming', '183', '153', '156', '167', '161'],\n",
       "  ['Alfie-James Pierce', '180', '150', '155', '172', '74'],\n",
       "  ['Waleed Wagstaff', '174', '153', '161', '168', '176'],\n",
       "  ['Miles Lyons', '177', '2', '160', '173', '169'],\n",
       "  ['Ayrton Justice', '178', '153', '160', '169', '175'],\n",
       "  ['Adeline Jordan', '179', '152', '105', '172', '195'],\n",
       "  ['Katelyn Beard', '179', '146', '164', '170', '171'],\n",
       "  ['Lindsey Fuller', '177', '157', '159', '172', '174'],\n",
       "  ['Annabell Hart', '177', '155', '162', '171', '174'],\n",
       "  ['Tayla Sparrow', '51', '154', '166', '170', '174'],\n",
       "  ['Kai Cabrera', '170', '151', '160', '173', '168'],\n",
       "  ['Rosie Higgins', '175', '153', '157', '172', '170'],\n",
       "  ['Dora Delacruz', '175', '147', '161', '316', '175'],\n",
       "  ['Daniella Gould', '176', '153', '167', '173', '167'],\n",
       "  ['Shaquille Wood', '175', '154', '165', '184', '170'],\n",
       "  ['Aditi Abbott', '175', '148', '168', '168', '171'],\n",
       "  ['Gabija Whitney', '175', '153', '165', '172', '178'],\n",
       "  ['Fynn Robin', '170', '154', '163', '173', '175'],\n",
       "  ['Jaye Sweeney', '174', '156', '121', '169', '168'],\n",
       "  ['Saffa Brook', '175', '154', '164', '171', '143'],\n",
       "  ['Kameron Anthony', '174', '157', '149', '169', '169'],\n",
       "  ['Owain Emerson', '9', '290', '163', '170', '164'],\n",
       "  [\"Tim O'Connor\", '170', '155', '157', '171', '174'],\n",
       "  ['Alaya Dickinson', '24', '154', '161', '170', '174']])"
      ]
     },
     "execution_count": 18,
     "metadata": {},
     "output_type": "execute_result"
    }
   ],
   "source": [
    "#initialize\n",
    "import csv\n",
    "import statistics\n",
    "headers = []\n",
    "students = []\n",
    "with open('participants.csv') as csv_data:\n",
    "    data_stream = csv.reader(csv_data, delimiter=',')\n",
    "    headers = next(data_stream)\n",
    "    students = [row for row in data_stream]   \n",
    "\n",
    "student_names = [names[0] for names in students]\n",
    "statistics_data = [int(week1data[1]) for week1data in students]\n",
    "studentcount = len(students)\n",
    "weekcount = len(headers) - 1 #to not include the names of the students, we subtract 1\n",
    "print(f'There are {studentcount} students in the {weekcount} week course.')\n",
    "headers, students"
   ]
  },
  {
   "cell_type": "code",
   "execution_count": 19,
   "id": "32f949ee",
   "metadata": {},
   "outputs": [
    {
     "data": {
      "text/plain": [
       "[174.0, 175.0, 179.0]"
      ]
     },
     "execution_count": 19,
     "metadata": {},
     "output_type": "execute_result"
    }
   ],
   "source": [
    "#mean, median, quartiles\n",
    "mean = statistics.mean(statistics_data)              #checked this value with a calculator, it's correct\n",
    "median = statistics.median(statistics_data)          #checked this value with a calculator, it's correct\n",
    "quartiles = statistics.quantiles(statistics_data)    #n=4 is the default, we do not need to type it out\n",
    "quartiles                                            #checked this value with a calculator, it's correct"
   ]
  },
  {
   "cell_type": "code",
   "execution_count": 20,
   "id": "9f2a8b2e",
   "metadata": {},
   "outputs": [
    {
     "name": "stdout",
     "output_type": "stream",
     "text": [
      "[166.5, 186.5]\n"
     ]
    },
    {
     "data": {
      "text/plain": [
       "[('Adrian Ellison', 77),\n",
       " ('Tayla Sparrow', 51),\n",
       " ('Owain Emerson', 9),\n",
       " ('Alaya Dickinson', 24)]"
      ]
     },
     "execution_count": 20,
     "metadata": {},
     "output_type": "execute_result"
    }
   ],
   "source": [
    "#tukeyfences\n",
    "over_attended = []\n",
    "under_attended = []\n",
    "k_factor = 1.5\n",
    "outlier_threshold = [(quartiles[0] - (k_factor * (quartiles[2] - quartiles[0]))), \n",
    "                     (quartiles[2] + (k_factor * (quartiles[2] - quartiles[0])))]\n",
    "                                                     #checked this value with a calculator, it's correct\n",
    "\n",
    "for x in range(studentcount):\n",
    "    if statistics_data[x] > outlier_threshold[1]:\n",
    "        to_be_added = (student_names[x], statistics_data[x])\n",
    "        over_attended.append(to_be_added)\n",
    "    if statistics_data[x] < outlier_threshold[0]:\n",
    "        to_be_added = (student_names[x], statistics_data[x])\n",
    "        under_attended.append(to_be_added)\n",
    "                                                     #checked these results with a calculator, it's correct\n",
    "print(outlier_threshold)\n",
    "under_attended"
   ]
  },
  {
   "cell_type": "code",
   "execution_count": 21,
   "id": "10b7965f",
   "metadata": {},
   "outputs": [
    {
     "data": {
      "text/plain": [
       "[('Owain Emerson', 9), ('Alaya Dickinson', 24)]"
      ]
     },
     "execution_count": 21,
     "metadata": {},
     "output_type": "execute_result"
    }
   ],
   "source": [
    "#standard deviation\n",
    "outside_3_stdev = []\n",
    "std_dev = statistics.stdev(statistics_data)              #checked this value with a calculator, it's correct\n",
    "for x in range(studentcount):\n",
    "    to_be_compared = statistics_data[x]\n",
    "    if to_be_compared <  (mean - (3 * std_dev)) or to_be_compared > (mean + (3 * std_dev)):\n",
    "        to_be_added = (student_names[x], statistics_data[x])\n",
    "        outside_3_stdev.append(to_be_added)\n",
    "outside_3_stdev"
   ]
  },
  {
   "cell_type": "code",
   "execution_count": null,
   "id": "7193524c",
   "metadata": {},
   "outputs": [],
   "source": []
  }
 ],
 "metadata": {
  "kernelspec": {
   "display_name": "Python 3",
   "language": "python",
   "name": "python3"
  },
  "language_info": {
   "codemirror_mode": {
    "name": "ipython",
    "version": 3
   },
   "file_extension": ".py",
   "mimetype": "text/x-python",
   "name": "python",
   "nbconvert_exporter": "python",
   "pygments_lexer": "ipython3",
   "version": "3.8.8"
  }
 },
 "nbformat": 4,
 "nbformat_minor": 5
}
