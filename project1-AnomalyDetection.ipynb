{
 "cells": [
  {
   "cell_type": "markdown",
   "id": "932a5de3",
   "metadata": {},
   "source": [
    "Fall 2021 - CPSC 483-02\n",
    "Project 1 - Anomaly Detection\n",
    "Sean Javiya\n",
    "Jake Wong"
   ]
  },
  {
   "cell_type": "markdown",
   "id": "872ac4c1",
   "metadata": {},
   "source": [
    "<h3>Experiment 1: Use the csv module to load the dataset and examine the contents of the first few rows.</h3>"
   ]
  },
  {
   "cell_type": "code",
   "execution_count": 83,
   "id": "ffa6769a",
   "metadata": {},
   "outputs": [
    {
     "name": "stdout",
     "output_type": "stream",
     "text": [
      "There are 35 students in the 5 week course.\n",
      "['Student Name', 'Week 1', 'Week 2', 'Week 3', 'Week 4', 'Week 5']\n",
      "['Adrian Ellison', '77', '154', '4', '170', '175']\n",
      "['Ophelia Mcphee', '179', '151', '164', '173', '171']\n",
      "['Yasir Fenton', '180', '47', '164', '168', '169']\n",
      "['Benny Arias', '180', '152', '161', '170', '170']\n",
      "['Tamara Cottrell', '183', '79', '161', '173', '168']\n",
      "175\n"
     ]
    }
   ],
   "source": [
    "#import and initialize\n",
    "import csv\n",
    "import statistics\n",
    "headers = []\n",
    "students = []\n",
    "with open('participants.csv') as csv_data:\n",
    "    data_stream = csv.reader(csv_data, delimiter=',')\n",
    "    headers = next(data_stream)\n",
    "    students = [row for row in data_stream]   \n",
    "    student_names = [names[0] for names in students]\n",
    "    statistics_data = [int(week1data[1]) for week1data in students]\n",
    "\n",
    "studentcount = len(students)\n",
    "weekcount = len(headers) - 1 #to not include the names of the students, we subtract 1\n",
    "print(f'There are {studentcount} students in the {weekcount} week course.')\n",
    "print(headers)\n",
    "for i in range(5):\n",
    "    print(students[i])"
   ]
  },
  {
   "cell_type": "markdown",
   "id": "93c61761",
   "metadata": {},
   "source": [
    "Here we have imported the csv module to open our csv file \"participants.csv\" and then we load the dataset into three lists.\n",
    "\"headers\" contains the elements from the first row from the csv file; it is a list of the headers of each column.\n",
    "\"students\" is a list of lists.  \"students\" contains every field from the entire csv except the headers row. It is a list where each element corresponds to an entire row.  Each row element is a list of the values from each column. \n",
    "\"student_names\" contains the first column of \"students\"; it is a list of the names of every student, in the order they appear in the csv file.\n",
    "\n",
    "\"statistics_data\" is a list of all the values (time logged in) from a specified column (a specific week of the course).  This list is initialized to hold the values from Week 1."
   ]
  },
  {
   "cell_type": "markdown",
   "id": "1f436480",
   "metadata": {},
   "source": []
  },
  {
   "cell_type": "markdown",
   "id": "5c239cf1",
   "metadata": {},
   "source": [
    "<h3>Experiment 2: Load the statistics module and use it to find the mean and median of Week 1’s data.</h3>"
   ]
  },
  {
   "cell_type": "code",
   "execution_count": 60,
   "id": "32f949ee",
   "metadata": {
    "scrolled": false
   },
   "outputs": [
    {
     "name": "stdout",
     "output_type": "stream",
     "text": [
      "Mean of Week 1 data:   161\n",
      "Median of Week 1 data: 175\n"
     ]
    }
   ],
   "source": [
    "#mean, median, quartiles\n",
    "mean = statistics.mean(statistics_data)              #checked this value with a calculator, it's correct\n",
    "median = statistics.median(statistics_data)          #checked this value with a calculator, it's correct\n",
    "\n",
    "print(f'Mean of Week 1 data:   {mean}')\n",
    "print(f'Median of Week 1 data: {median}')"
   ]
  },
  {
   "cell_type": "markdown",
   "id": "1e3fef60",
   "metadata": {},
   "source": [
    "In Experiment 2, we have used the statistics module to find the mean and median of \"statistics_data\".\n",
    "Recall that statistics_data was initialized to hold the values from Week 1."
   ]
  },
  {
   "cell_type": "markdown",
   "id": "ce0e4d3f",
   "metadata": {},
   "source": []
  },
  {
   "cell_type": "markdown",
   "id": "af6c8f8a",
   "metadata": {},
   "source": [
    "<h3>Experiment 3: Find the quartiles for Week 1.</h3>"
   ]
  },
  {
   "cell_type": "code",
   "execution_count": 61,
   "id": "aee61c80",
   "metadata": {},
   "outputs": [
    {
     "data": {
      "text/plain": [
       "[174.0, 175.0, 179.0]"
      ]
     },
     "execution_count": 61,
     "metadata": {},
     "output_type": "execute_result"
    }
   ],
   "source": [
    "quartiles = statistics.quantiles(statistics_data)    #n=4 is the default, we do not need to type it out\n",
    "\n",
    "quartiles                                           #checked this value with a calculator, it's correct"
   ]
  },
  {
   "cell_type": "markdown",
   "id": "0601ea6f",
   "metadata": {},
   "source": [
    "In Experiment 3, we have used the statistics module to find the quartiles of \"statistics_data\".\n",
    "Recall that statistics_data was initialized to hold the values from Week 1.\n",
    "statistics.quantiles() defaults to n=4 when not specified.  Therefore, this function call is equivalent to:\n",
    "statistics.quantiles(statistics_data, n=4)"
   ]
  },
  {
   "cell_type": "markdown",
   "id": "a280fe46",
   "metadata": {},
   "source": []
  },
  {
   "cell_type": "markdown",
   "id": "85c8a355",
   "metadata": {},
   "source": [
    "<h3>Experiment 4: Use Tukey Fences method with k = 1.5 to find the outliers in the Week 1 attendance data.</h3>"
   ]
  },
  {
   "cell_type": "code",
   "execution_count": 62,
   "id": "9f2a8b2e",
   "metadata": {},
   "outputs": [
    {
     "name": "stdout",
     "output_type": "stream",
     "text": [
      "The outliers who under attended during Week 1 are:\n",
      "Adrian Ellison\t\twho spent 77 minutes on the zoom call\n",
      "Tayla Sparrow\t\twho spent 51 minutes on the zoom call\n",
      "Owain Emerson\t\twho spent 9 minutes on the zoom call\n",
      "Alaya Dickinson\t\twho spent 24 minutes on the zoom call\n"
     ]
    }
   ],
   "source": [
    "#tukeyfences\n",
    "over_attended = []\n",
    "under_attended = []\n",
    "k_factor = 1.5\n",
    "outlier_threshold = [(quartiles[0] - (k_factor * (quartiles[2] - quartiles[0]))), \n",
    "                     (quartiles[2] + (k_factor * (quartiles[2] - quartiles[0])))]\n",
    "                                                     #checked this value with a calculator, it's correct\n",
    "\n",
    "for x in range(studentcount):\n",
    "    if statistics_data[x] > outlier_threshold[1]:\n",
    "        to_be_added = (student_names[x], statistics_data[x])\n",
    "        over_attended.append(to_be_added)\n",
    "    if statistics_data[x] < outlier_threshold[0]:\n",
    "        to_be_added = (student_names[x], statistics_data[x])\n",
    "        under_attended.append(to_be_added)\n",
    "                                                     #checked these results with a calculator, it's correct\n",
    "if over_attended:\n",
    "    print(\"The outliers who over attended during Week 1 are:\")\n",
    "    for outlier in over_attended:\n",
    "        print(f\"{outlier[0]}\\t\\twho spent {outlier[1]} minutes on the zoom call\")\n",
    "if under_attended:\n",
    "    print(\"The outliers who under attended during Week 1 are:\")\n",
    "    for outlier in under_attended:\n",
    "        print(f\"{outlier[0]}\\t\\twho spent {outlier[1]} minutes on the zoom call\")\n",
    "if (not under_attended) and (not over_attended):\n",
    "    print(\"There are no outliers\")  "
   ]
  },
  {
   "cell_type": "markdown",
   "id": "705fbbec",
   "metadata": {},
   "source": [
    "In Experiment 4, we find the outliers (of the Week 1 data) using the Tukey Fences method.\n",
    "Tukey Fences are a simple method to find outliers in terms of the interquartile range.[reword:from prompt]\n",
    "We will use the quartiles obtained from Experiment 3 to find the lower and upper thresholds of the outliers in the Week 1 data.\n",
    "outlier_threshold = [(quartiles[0] - (k_factor * (quartiles[2] - quartiles[0]))), \n",
    "                     (quartiles[2] + (k_factor * (quartiles[2] - quartiles[0])))]\n",
    "\n",
    "Finally, we compare the values from the Week 1 data with our upper and lower bounds to find and output the outliers to the standard output device.\n",
    "Recall that statistics_data was initialized to hold the values from Week 1."
   ]
  },
  {
   "cell_type": "markdown",
   "id": "e5475655",
   "metadata": {},
   "source": []
  },
  {
   "cell_type": "markdown",
   "id": "77b182fc",
   "metadata": {},
   "source": [
    "<h3>Experiment 5: Compute the standard deviation for the Week 1 attendance data, then use 3 std deviations method to find the outliers.</h3>\n"
   ]
  },
  {
   "cell_type": "code",
   "execution_count": 63,
   "id": "10b7965f",
   "metadata": {},
   "outputs": [
    {
     "name": "stdout",
     "output_type": "stream",
     "text": [
      "Week 1's Standard Deviation: 45.02025687856262\n",
      "The outliers of Week 1 are:\n",
      "Owain Emerson\t\twho spent 9 minutes on the zoom call\n",
      "Alaya Dickinson\t\twho spent 24 minutes on the zoom call\n"
     ]
    }
   ],
   "source": [
    "#standard deviation\n",
    "outside_3_stdev = []\n",
    "std_dev = statistics.stdev(statistics_data)              #checked this value with a calculator, it's correct\n",
    "lower_bound = mean - (3 * std_dev)                       #checked\n",
    "upper_bound = mean + (3 * std_dev)                       #checked\n",
    "for x in range(studentcount):\n",
    "    to_be_compared = statistics_data[x]\n",
    "    if to_be_compared <  lower_bound or to_be_compared > upper_bound:\n",
    "        to_be_added = (student_names[x], statistics_data[x])\n",
    "        outside_3_stdev.append(to_be_added)\n",
    "print(f\"Week 1's Standard Deviation: {std_dev}\")\n",
    "print(\"The outliers of Week 1 are:\")\n",
    "for outlier in outside_3_stdev:\n",
    "    print(f\"{outlier[0]}\\t\\twho spent {outlier[1]} minutes on the zoom call\")"
   ]
  },
  {
   "cell_type": "markdown",
   "id": "ed3473f2",
   "metadata": {},
   "source": [
    "In Experiment 5, we use the statistics module to find the standard deviation of the values in \"statistics_data\".\n",
    "We save the standard deviation as \"std_dev\"\n",
    "Recall that statistics_data was initialized to hold the values from Week 1.\n",
    "\n",
    "In statistics, the 68–95–99.7 rule, also known as the empirical rule, is a shorthand used to remember the percentage of values that lie within an interval estimate in a normal distribution: 68%, 95%, and 99.7% of the values lie within one, two, and three standard deviations of the mean, respectively. [reword this its from wikipedia]\n",
    "[we want the last equation from wikipedia]\n",
    "https://wikimedia.org/api/rest_v1/media/math/render/svg/1ddc342f4e2c499595f53c446d0b6883fabd4db3\n",
    "\n",
    "If we assume that our data are normally distributed, this gives us another way to find outliers. [reword:from prompt]\n",
    "\n",
    "We use the mean obtained from Experiment 2 to calculate the upper and lower bounds of our distribution.\n",
    "lower_bound = mean - (3 * std_dev)\n",
    "upper_bound = mean + (3 * std_dev)\n",
    "Recall that \"std_dev\" is the standard deviation we obtained from the statistics module.\n",
    "\n",
    "Finally, we compare the values from the Week 1 data with our upper and lower bounds to find and output the outliers to the standard output device.\n",
    "\n",
    "The results of Experiment 5 do not agree with the reults of Experiment 4."
   ]
  },
  {
   "cell_type": "markdown",
   "id": "78cba11c",
   "metadata": {},
   "source": []
  },
  {
   "cell_type": "markdown",
   "id": "ab1213b0",
   "metadata": {},
   "source": [
    "<h3>Experiment 6: Define a function tardy_iqr() to repeat experiment 4</h3>"
   ]
  },
  {
   "cell_type": "code",
   "execution_count": 64,
   "id": "7193524c",
   "metadata": {
    "scrolled": true
   },
   "outputs": [
    {
     "name": "stdout",
     "output_type": "stream",
     "text": [
      "The students who under attended during Week 1:\n",
      "Adrian Ellison\t\twho spent 77 minutes on the zoom call\n",
      "Tayla Sparrow\t\twho spent 51 minutes on the zoom call\n",
      "Owain Emerson\t\twho spent 9 minutes on the zoom call\n",
      "Alaya Dickinson\t\twho spent 24 minutes on the zoom call\n"
     ]
    },
    {
     "data": {
      "text/plain": [
       "['Adrian Ellison', 'Tayla Sparrow', 'Owain Emerson', 'Alaya Dickinson']"
      ]
     },
     "execution_count": 64,
     "metadata": {},
     "output_type": "execute_result"
    }
   ],
   "source": [
    "def tardy_iqr(week):\n",
    "    over_attended = []\n",
    "    under_attended = []\n",
    "    k_factor = 1.5\n",
    "    if not headers:\n",
    "        print(\"Please select 'Run All Cells'\")\n",
    "        return\n",
    "    elif week not in headers:\n",
    "        print(f\"{week} was not found within the list of Headers\")\n",
    "        return\n",
    "    elif week == \"Student Name\":\n",
    "        print(\"'Student Name' is not a valid option\")\n",
    "        return\n",
    "    week_index = headers.index(week)\n",
    "    statistics_data = [int(row[week_index]) for row in students]\n",
    "    quartiles = statistics.quantiles(statistics_data)\n",
    "    outlier_threshold = [(quartiles[0] - (k_factor * (quartiles[2] - quartiles[0]))), \n",
    "                         (quartiles[2] + (k_factor * (quartiles[2] - quartiles[0])))]\n",
    "                                                     #checked this value with a calculator, it's correct\n",
    "    for x in range(studentcount):\n",
    "        if statistics_data[x] > outlier_threshold[1]:\n",
    "            to_be_added = (student_names[x], statistics_data[x])\n",
    "            over_attended.append(to_be_added)\n",
    "        if statistics_data[x] < outlier_threshold[0]:\n",
    "            to_be_added = (student_names[x], statistics_data[x])\n",
    "            under_attended.append(to_be_added)\n",
    "    if not under_attended:\n",
    "        print(f\"There are no students who under attended during {week}.\") \n",
    "    else:\n",
    "        print(f\"The students who under attended during {week}:\")\n",
    "        for student in under_attended:\n",
    "            print(f\"{student[0]}\\t\\twho spent {student[1]} minutes on the zoom call\")\n",
    "    names_of_under_attended = [name[0] for name in under_attended]\n",
    "    return names_of_under_attended\n",
    "\n",
    "tardy_iqr(\"Week 1\")"
   ]
  },
  {
   "cell_type": "markdown",
   "id": "9c4c624a",
   "metadata": {},
   "source": [
    "In Experiment 6, we built a function to perform Experiment 4.\n",
    "The function \"tardy_iqr()\" takes one parameter.  The parameter is the Week # that we want Experiment 4 performed upon. The function \"tardy_iqr()\" returns a list of names (of students who under attended).\n",
    "First, we verify that the parameter exists in \"headers\". Recall that \"headers\" contains the headers of each column.\n",
    "Second, we initialize \"statistics_data\" to contain the values from the specified week.  We take the values from \"students\" to prevent wasting resources by re-opening our csv file. Recall that \"students\" contains every field from the entire csv file except the headers row.\n",
    "Third, we perform Experiment 4 and find the students who under attended.\n",
    "Finally, we output a detailed report to the standard output device and return the names of the students who under attended."
   ]
  },
  {
   "cell_type": "markdown",
   "id": "4e3871ff",
   "metadata": {},
   "source": []
  },
  {
   "cell_type": "markdown",
   "id": "3daf96d9",
   "metadata": {},
   "source": [
    "<h3>Experiment 7: Define a function tardy_stdev() to repeat experiment </h3> "
   ]
  },
  {
   "cell_type": "code",
   "execution_count": 65,
   "id": "89f15ba2",
   "metadata": {
    "scrolled": true
   },
   "outputs": [
    {
     "name": "stdout",
     "output_type": "stream",
     "text": [
      "Mean of Week 3 data:   153.8\n",
      "Median of Week 3 data: 161\n",
      "Standard Deviation of Week 3: 28.709293432820054\n",
      "The outliers of Week 3 are:\n",
      "Adrian Ellison\t\twho spent 4 minutes on the zoom call\n"
     ]
    },
    {
     "data": {
      "text/plain": [
       "['Adrian Ellison']"
      ]
     },
     "execution_count": 65,
     "metadata": {},
     "output_type": "execute_result"
    }
   ],
   "source": [
    "def tardy_stdev(week):\n",
    "    outside_3_stdev = []\n",
    "    if not headers:\n",
    "        print('Please select \"Run All Cells\"')\n",
    "        return\n",
    "    if week not in headers:\n",
    "        print(f\"{week} was not found within the list of Headers\")\n",
    "        return\n",
    "    elif week == \"Student Name\":\n",
    "        print(\"'Student Name' is not a valid option\")\n",
    "        return\n",
    "    week_index = headers.index(week)\n",
    "    statistics_data = [int(row[week_index]) for row in students]\n",
    "    mean = statistics.mean(statistics_data)                  #checked this value with a calculator, it's correct\n",
    "    median = statistics.median(statistics_data)              #checked this value with a calculator, it's correct\n",
    "    std_dev = statistics.stdev(statistics_data)              #checked this value with a calculator, it's correct\n",
    "    lower_bound = mean - (3 * std_dev)                       #checked\n",
    "    upper_bound = mean + (3 * std_dev)                       #checked\n",
    "    print(f'Mean of {week} data:   {mean}')\n",
    "    print(f'Median of {week} data: {median}')\n",
    "    print(f\"Standard Deviation of {week}: {std_dev}\")\n",
    "    for x in range(studentcount):\n",
    "        to_be_compared = statistics_data[x]\n",
    "        if to_be_compared <  lower_bound or to_be_compared > upper_bound:\n",
    "            to_be_added = (student_names[x], statistics_data[x])\n",
    "            outside_3_stdev.append(to_be_added)\n",
    "    if not outside_3_stdev:\n",
    "        print(f\"There are no outliers during {week}.\") \n",
    "    else:\n",
    "        print(f'The outliers of {week} are:')\n",
    "        for student in outside_3_stdev:\n",
    "            print(f\"{student[0]}\\t\\twho spent {student[1]} minutes on the zoom call\")\n",
    "    names_of_outliers = [name[0] for name in outside_3_stdev]\n",
    "    return names_of_outliers\n",
    "\n",
    "tardy_stdev(\"Week 3\")"
   ]
  },
  {
   "cell_type": "markdown",
   "id": "397408a1",
   "metadata": {},
   "source": [
    "In Experiment 7, we built a function to perform Experiment 5.\n",
    "The function \"tardy_stdev()\" takes one parameter.  The parameter is the Week # that we want Experiment 5 performed upon. The function \"tardy_iqr()\" returns a list of names (of students who were outliers).\n",
    "First, we verify that the parameter exists in \"headers\". Recall that \"headers\" contains the headers of each column.\n",
    "Second, we initialize \"statistics_data\" to contain the values from the specified week.  We take the values from \"students\" to prevent wasting resources by re-opening our csv file. Recall that \"students\" contains every field from the entire csv file except the headers row.\n",
    "Third, we perform Experiment 5 and find the students who were outliers.\n",
    "Finally, we output a detailed report to the standard output device and return the names of the students who were outliers."
   ]
  },
  {
   "cell_type": "markdown",
   "id": "23df0a7a",
   "metadata": {},
   "source": []
  },
  {
   "cell_type": "markdown",
   "id": "4e29dd79",
   "metadata": {},
   "source": [
    "<h3>Experiment 8: Compare the results of tardy_iqr() and tardy_stdev() on Weeks 2-5.</h3>"
   ]
  },
  {
   "cell_type": "code",
   "execution_count": 70,
   "id": "63b040a7",
   "metadata": {},
   "outputs": [
    {
     "name": "stdout",
     "output_type": "stream",
     "text": [
      "                 Week 2\n",
      "--------------------------------------------------------------\n",
      "Comparing tardy_iqr to tardy_stdev for Week 2:\n",
      "1)     tardy_iqr using tukey fences:\n",
      "The students who under attended during Week 2:\n",
      "Yasir Fenton\t\twho spent 47 minutes on the zoom call\n",
      "Tamara Cottrell\t\twho spent 79 minutes on the zoom call\n",
      "Jazmin Foreman\t\twho spent 103 minutes on the zoom call\n",
      "Bear Zuniga\t\twho spent 131 minutes on the zoom call\n",
      "Miles Lyons\t\twho spent 2 minutes on the zoom call\n",
      "2)     tardy_stdev using standard deviation:\n",
      "Mean of Week 2 data:   145.0857142857143\n",
      "Median of Week 2 data: 153\n",
      "Standard Deviation of Week 2: 41.76712148298934\n",
      "The outliers of Week 2 are:\n",
      "Miles Lyons\t\twho spent 2 minutes on the zoom call\n",
      "Owain Emerson\t\twho spent 290 minutes on the zoom call\n",
      "--------------------------------------------------------------\n",
      "tardy_iqr returned:\n",
      "['Yasir Fenton', 'Tamara Cottrell', 'Jazmin Foreman', 'Bear Zuniga', 'Miles Lyons']\n",
      "tardy_stdev returned:\n",
      "['Miles Lyons', 'Owain Emerson']\n",
      "--------------------------------------------------------------\n",
      "--------------------------------------------------------------\n",
      "                 Week 3\n",
      "--------------------------------------------------------------\n",
      "Comparing tardy_iqr to tardy_stdev for Week 3:\n",
      "1)     tardy_iqr using tukey fences:\n",
      "The students who under attended during Week 3:\n",
      "Adrian Ellison\t\twho spent 4 minutes on the zoom call\n",
      "Adeline Jordan\t\twho spent 105 minutes on the zoom call\n",
      "Jaye Sweeney\t\twho spent 121 minutes on the zoom call\n",
      "2)     tardy_stdev using standard deviation:\n",
      "Mean of Week 3 data:   153.8\n",
      "Median of Week 3 data: 161\n",
      "Standard Deviation of Week 3: 28.709293432820054\n",
      "The outliers of Week 3 are:\n",
      "Adrian Ellison\t\twho spent 4 minutes on the zoom call\n",
      "--------------------------------------------------------------\n",
      "tardy_iqr returned:\n",
      "['Adrian Ellison', 'Adeline Jordan', 'Jaye Sweeney']\n",
      "tardy_stdev returned:\n",
      "['Adrian Ellison']\n",
      "--------------------------------------------------------------\n",
      "--------------------------------------------------------------\n",
      "                 Week 4\n",
      "--------------------------------------------------------------\n",
      "Comparing tardy_iqr to tardy_stdev for Week 4:\n",
      "1)     tardy_iqr using tukey fences:\n",
      "There are no students who under attended during Week 4.\n",
      "2)     tardy_stdev using standard deviation:\n",
      "Mean of Week 4 data:   175.31428571428572\n",
      "Median of Week 4 data: 171\n",
      "Standard Deviation of Week 4: 24.63590329361676\n",
      "The outliers of Week 4 are:\n",
      "Dora Delacruz\t\twho spent 316 minutes on the zoom call\n",
      "--------------------------------------------------------------\n",
      "tardy_iqr returned:\n",
      "[]\n",
      "tardy_stdev returned:\n",
      "['Dora Delacruz']\n",
      "--------------------------------------------------------------\n",
      "--------------------------------------------------------------\n",
      "                 Week 5\n",
      "--------------------------------------------------------------\n",
      "Comparing tardy_iqr to tardy_stdev for Week 5:\n",
      "1)     tardy_iqr using tukey fences:\n",
      "The students who under attended during Week 5:\n",
      "Jazmin Foreman\t\twho spent 35 minutes on the zoom call\n",
      "Sanjay Edwards\t\twho spent 66 minutes on the zoom call\n",
      "Alfie-James Pierce\t\twho spent 74 minutes on the zoom call\n",
      "Saffa Brook\t\twho spent 143 minutes on the zoom call\n",
      "2)     tardy_stdev using standard deviation:\n",
      "Mean of Week 5 data:   161.8\n",
      "Median of Week 5 data: 171\n",
      "Standard Deviation of Week 5: 33.36941184766108\n",
      "The outliers of Week 5 are:\n",
      "Jazmin Foreman\t\twho spent 35 minutes on the zoom call\n",
      "--------------------------------------------------------------\n",
      "tardy_iqr returned:\n",
      "['Jazmin Foreman', 'Sanjay Edwards', 'Alfie-James Pierce', 'Saffa Brook']\n",
      "tardy_stdev returned:\n",
      "['Jazmin Foreman']\n",
      "--------------------------------------------------------------\n",
      "--------------------------------------------------------------\n"
     ]
    }
   ],
   "source": [
    "x = 2\n",
    "compare_iqr = []\n",
    "compare_stdev = []\n",
    "while x <= 5:\n",
    "    print(f'                 Week {x}')\n",
    "    print('--------------------------------------------------------------')\n",
    "    print(f'Comparing tardy_iqr to tardy_stdev for Week {x}:')\n",
    "    print('1)     tardy_iqr using tukey fences:')\n",
    "    compare_iqr = tardy_iqr(f'Week {x}')\n",
    "    print('2)     tardy_stdev using standard deviation:')\n",
    "    compare_stdev = tardy_stdev(f'Week {x}')\n",
    "    print('--------------------------------------------------------------')\n",
    "    print('tardy_iqr returned:')\n",
    "    print(compare_iqr)\n",
    "    print('tardy_stdev returned:')\n",
    "    print(compare_stdev)\n",
    "    print('--------------------------------------------------------------')\n",
    "    print('--------------------------------------------------------------')\n",
    "    x += 1\n"
   ]
  },
  {
   "cell_type": "markdown",
   "id": "45b435e9",
   "metadata": {},
   "source": [
    "In Experiment 8, we compare the results of tardy_iqr() and tardy_stdev() for Weeks 2 through 5.\n",
    "Week 2:\n",
    "Week 3:\n",
    "Week 4:\n",
    "Week 5:\n",
    "\n",
    "Conclusions:\n"
   ]
  },
  {
   "cell_type": "markdown",
   "id": "fc194f59",
   "metadata": {},
   "source": []
  }
 ],
 "metadata": {
  "kernelspec": {
   "display_name": "Python 3",
   "language": "python",
   "name": "python3"
  },
  "language_info": {
   "codemirror_mode": {
    "name": "ipython",
    "version": 3
   },
   "file_extension": ".py",
   "mimetype": "text/x-python",
   "name": "python",
   "nbconvert_exporter": "python",
   "pygments_lexer": "ipython3",
   "version": "3.8.8"
  }
 },
 "nbformat": 4,
 "nbformat_minor": 5
}
