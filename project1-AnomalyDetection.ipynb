{
 "cells": [
  {
   "cell_type": "markdown",
   "id": "932a5de3",
   "metadata": {},
   "source": [
    "Fall 2021 - CPSC 483-02\n",
    "Project 1 - Anomaly Detection\n",
    "Sean Javiya\n",
    "Jake Wong"
   ]
  },
  {
   "cell_type": "markdown",
   "id": "872ac4c1",
   "metadata": {},
   "source": [
    "<h3>Experiment 1: Use the csv module to load the dataset and examine the contents of the first few rows.</h3>"
   ]
  },
  {
   "cell_type": "code",
   "execution_count": 7,
   "id": "ffa6769a",
   "metadata": {},
   "outputs": [
    {
     "name": "stdout",
     "output_type": "stream",
     "text": [
      "There are 35 students in the 5 week course.\n",
      "['Student Name', 'Week 1', 'Week 2', 'Week 3', 'Week 4', 'Week 5']\n",
      "['Adrian Ellison', '77', '154', '4', '170', '175']\n",
      "['Ophelia Mcphee', '179', '151', '164', '173', '171']\n",
      "['Yasir Fenton', '180', '47', '164', '168', '169']\n",
      "['Benny Arias', '180', '152', '161', '170', '170']\n",
      "['Tamara Cottrell', '183', '79', '161', '173', '168']\n"
     ]
    }
   ],
   "source": [
    "#import and initialize\n",
    "import csv\n",
    "import statistics\n",
    "headers = []\n",
    "students = []\n",
    "with open('participants.csv') as csv_data:\n",
    "    data_stream = csv.reader(csv_data, delimiter=',')\n",
    "    headers = next(data_stream)\n",
    "    students = [row for row in data_stream]   \n",
    "    student_names = [names[0] for names in students]\n",
    "    statistics_data = [int(week1data[1]) for week1data in students]\n",
    "\n",
    "studentcount = len(students)\n",
    "weekcount = len(headers) - 1 #to not include the names of the students, we subtract 1\n",
    "print(f'There are {studentcount} students in the {weekcount} week course.')\n",
    "print(headers)\n",
    "for i in range(5):\n",
    "    print(students[i])"
   ]
  },
  {
   "cell_type": "markdown",
   "id": "5c239cf1",
   "metadata": {},
   "source": [
    "<h3>Experiment 2: Load the statistics module and use it to find the mean and median of Week 1’s data.</h3>"
   ]
  },
  {
   "cell_type": "code",
   "execution_count": 10,
   "id": "32f949ee",
   "metadata": {},
   "outputs": [
    {
     "name": "stdout",
     "output_type": "stream",
     "text": [
      "Mean of Week 1 data:  161\n",
      "Median of Week 1 data:  175\n"
     ]
    }
   ],
   "source": [
    "#mean, median, quartiles\n",
    "mean1 = statistics.mean(statistics_data)              #checked this value with a calculator, it's correct\n",
    "median1 = statistics.median(statistics_data)          #checked this value with a calculator, it's correct\n",
    "\n",
    "print('Mean of Week 1 data: ', mean1)\n",
    "print('Median of Week 1 data: ', median1)"
   ]
  },
  {
   "cell_type": "markdown",
   "id": "af6c8f8a",
   "metadata": {},
   "source": [
    "<h3>Experiment 3: Find the quartiles for Week 1.</h3>"
   ]
  },
  {
   "cell_type": "code",
   "execution_count": null,
   "id": "aee61c80",
   "metadata": {},
   "outputs": [],
   "source": [
    "quartiles = statistics.quantiles(statistics_data)    #n=4 is the default, we do not need to type it out\n",
    "\n",
    "quartiles                                            #checked this value with a calculator, it's correct"
   ]
  },
  {
   "cell_type": "markdown",
   "id": "85c8a355",
   "metadata": {},
   "source": [
    "<h3>Experiment 4: Use Tukey Fences method with k = 1.5 to find the outliers in the Week 1 attendance data.</h3>"
   ]
  },
  {
   "cell_type": "code",
   "execution_count": 3,
   "id": "9f2a8b2e",
   "metadata": {},
   "outputs": [
    {
     "data": {
      "text/plain": [
       "[('Adrian Ellison', 77),\n",
       " ('Tayla Sparrow', 51),\n",
       " ('Owain Emerson', 9),\n",
       " ('Alaya Dickinson', 24)]"
      ]
     },
     "execution_count": 3,
     "metadata": {},
     "output_type": "execute_result"
    }
   ],
   "source": [
    "#tukeyfences\n",
    "over_attended = []\n",
    "under_attended = []\n",
    "k_factor = 1.5\n",
    "outlier_threshold = [(quartiles[0] - (k_factor * (quartiles[2] - quartiles[0]))), \n",
    "                     (quartiles[2] + (k_factor * (quartiles[2] - quartiles[0])))]\n",
    "                                                     #checked this value with a calculator, it's correct\n",
    "\n",
    "for x in range(studentcount):\n",
    "    if statistics_data[x] > outlier_threshold[1]:\n",
    "        to_be_added = (student_names[x], statistics_data[x])\n",
    "        over_attended.append(to_be_added)\n",
    "    if statistics_data[x] < outlier_threshold[0]:\n",
    "        to_be_added = (student_names[x], statistics_data[x])\n",
    "        under_attended.append(to_be_added)\n",
    "                                                     #checked these results with a calculator, it's correct\n",
    "\n",
    "under_attended"
   ]
  },
  {
   "cell_type": "markdown",
   "id": "77b182fc",
   "metadata": {},
   "source": [
    "<h3>Experiment 5: Load the dataset and examine the contents of first few rows</h3>"
   ]
  },
  {
   "cell_type": "code",
   "execution_count": 4,
   "id": "10b7965f",
   "metadata": {},
   "outputs": [
    {
     "data": {
      "text/plain": [
       "[('Owain Emerson', 9), ('Alaya Dickinson', 24)]"
      ]
     },
     "execution_count": 4,
     "metadata": {},
     "output_type": "execute_result"
    }
   ],
   "source": [
    "#standard deviation\n",
    "outside_3_stdev = []\n",
    "std_dev = statistics.stdev(statistics_data)              #checked this value with a calculator, it's correct\n",
    "\n",
    "for x in range(studentcount):\n",
    "    to_be_compared = statistics_data[x]\n",
    "    if to_be_compared <  (mean - (3 * std_dev)) or to_be_compared > (mean + (3 * std_dev)):\n",
    "        to_be_added = (student_names[x], statistics_data[x])\n",
    "        outside_3_stdev.append(to_be_added)\n",
    "outside_3_stdev"
   ]
  },
  {
   "cell_type": "markdown",
   "id": "ab1213b0",
   "metadata": {},
   "source": [
    "Experiment 6: Define a function tardy_iqr() to repeat experiment 4"
   ]
  },
  {
   "cell_type": "code",
   "execution_count": null,
   "id": "7193524c",
   "metadata": {},
   "outputs": [],
   "source": [
    "def tardy_iqr(week):\n",
    "    "
   ]
  },
  {
   "cell_type": "markdown",
   "id": "3daf96d9",
   "metadata": {},
   "source": [
    "Experiment 7: Define a function tardy_stdev() to repeat experiment "
   ]
  },
  {
   "cell_type": "code",
   "execution_count": null,
   "id": "89f15ba2",
   "metadata": {},
   "outputs": [],
   "source": [
    "def tardy_stdev(week):\n",
    "    "
   ]
  },
  {
   "cell_type": "code",
   "execution_count": null,
   "id": "0cfbc8da",
   "metadata": {},
   "outputs": [],
   "source": [
    "Experiment 8: Compare the results of tardy_iqr() and tardy_stdev() on Weeks 2-5."
   ]
  },
  {
   "cell_type": "code",
   "execution_count": null,
   "id": "63b040a7",
   "metadata": {},
   "outputs": [],
   "source": []
  }
 ],
 "metadata": {
  "kernelspec": {
   "display_name": "Python 3",
   "language": "python",
   "name": "python3"
  },
  "language_info": {
   "codemirror_mode": {
    "name": "ipython",
    "version": 3
   },
   "file_extension": ".py",
   "mimetype": "text/x-python",
   "name": "python",
   "nbconvert_exporter": "python",
   "pygments_lexer": "ipython3",
   "version": "3.8.8"
  }
 },
 "nbformat": 4,
 "nbformat_minor": 5
}
