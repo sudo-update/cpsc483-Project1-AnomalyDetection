{
 "cells": [
  {
   "cell_type": "markdown",
   "id": "932a5de3",
   "metadata": {},
   "source": [
    "Fall 2021 - CPSC 483-02\n",
    "Project 1 - Anomaly Detection\n",
    "Sean Javiya\n",
    "Jake Wong"
   ]
  },
  {
   "cell_type": "markdown",
   "id": "872ac4c1",
   "metadata": {},
   "source": [
    "<h3>Experiment 1: Use the csv module to load the dataset and examine the contents of the first few rows.</h3>"
   ]
  },
  {
   "cell_type": "code",
   "execution_count": 1,
   "id": "ffa6769a",
   "metadata": {},
   "outputs": [
    {
     "name": "stdout",
     "output_type": "stream",
     "text": [
      "There are 35 students in the 5 week course.\n",
      "['Student Name', 'Week 1', 'Week 2', 'Week 3', 'Week 4', 'Week 5']\n",
      "['Adrian Ellison', '77', '154', '4', '170', '175']\n",
      "['Ophelia Mcphee', '179', '151', '164', '173', '171']\n",
      "['Yasir Fenton', '180', '47', '164', '168', '169']\n",
      "['Benny Arias', '180', '152', '161', '170', '170']\n",
      "['Tamara Cottrell', '183', '79', '161', '173', '168']\n"
     ]
    }
   ],
   "source": [
    "#import and initialize\n",
    "import csv\n",
    "import statistics\n",
    "headers = []\n",
    "students = []\n",
    "with open('participants.csv') as csv_data:\n",
    "    data_stream = csv.reader(csv_data, delimiter=',')\n",
    "    headers = next(data_stream)\n",
    "    students = [row for row in data_stream]   \n",
    "    student_names = [names[0] for names in students]\n",
    "    statistics_data = [int(week1data[1]) for week1data in students]\n",
    "\n",
    "studentcount = len(students)\n",
    "weekcount = len(headers) - 1 #to not include the names of the students, we subtract 1\n",
    "print(f'There are {studentcount} students in the {weekcount} week course.')\n",
    "print(headers)\n",
    "for i in range(5):\n",
    "    print(students[i])"
   ]
  },
  {
   "cell_type": "markdown",
   "id": "c5a80391",
   "metadata": {},
   "source": []
  },
  {
   "cell_type": "markdown",
   "id": "5c239cf1",
   "metadata": {},
   "source": [
    "<h3>Experiment 2: Load the statistics module and use it to find the mean and median of Week 1’s data.</h3>"
   ]
  },
  {
   "cell_type": "code",
   "execution_count": 2,
   "id": "32f949ee",
   "metadata": {},
   "outputs": [
    {
     "name": "stdout",
     "output_type": "stream",
     "text": [
      "Mean of Week 1 data: 161\n",
      "Median of Week 1 data:175\n"
     ]
    }
   ],
   "source": [
    "#mean, median, quartiles\n",
    "mean1 = statistics.mean(statistics_data)              #checked this value with a calculator, it's correct\n",
    "median1 = statistics.median(statistics_data)          #checked this value with a calculator, it's correct\n",
    "\n",
    "print(f'Mean of Week 1 data: {mean1}')\n",
    "print(f'Median of Week 1 data:{median1}')"
   ]
  },
  {
   "cell_type": "markdown",
   "id": "ce0e4d3f",
   "metadata": {},
   "source": []
  },
  {
   "cell_type": "markdown",
   "id": "af6c8f8a",
   "metadata": {},
   "source": [
    "<h3>Experiment 3: Find the quartiles for Week 1.</h3>"
   ]
  },
  {
   "cell_type": "code",
   "execution_count": 3,
   "id": "aee61c80",
   "metadata": {},
   "outputs": [
    {
     "data": {
      "text/plain": [
       "[174.0, 175.0, 179.0]"
      ]
     },
     "execution_count": 3,
     "metadata": {},
     "output_type": "execute_result"
    }
   ],
   "source": [
    "quartiles1 = statistics.quantiles(statistics_data)    #n=4 is the default, we do not need to type it out\n",
    "\n",
    "quartiles1                                           #checked this value with a calculator, it's correct"
   ]
  },
  {
   "cell_type": "markdown",
   "id": "a280fe46",
   "metadata": {},
   "source": []
  },
  {
   "cell_type": "markdown",
   "id": "85c8a355",
   "metadata": {},
   "source": [
    "<h3>Experiment 4: Use Tukey Fences method with k = 1.5 to find the outliers in the Week 1 attendance data.</h3>"
   ]
  },
  {
   "cell_type": "code",
   "execution_count": 4,
   "id": "9f2a8b2e",
   "metadata": {},
   "outputs": [
    {
     "data": {
      "text/plain": [
       "[('Adrian Ellison', 77),\n",
       " ('Tayla Sparrow', 51),\n",
       " ('Owain Emerson', 9),\n",
       " ('Alaya Dickinson', 24)]"
      ]
     },
     "execution_count": 4,
     "metadata": {},
     "output_type": "execute_result"
    }
   ],
   "source": [
    "#tukeyfences\n",
    "over_attended = []\n",
    "under_attended = []\n",
    "k_factor = 1.5\n",
    "outlier_threshold = [(quartiles[0] - (k_factor * (quartiles[2] - quartiles[0]))), \n",
    "                     (quartiles[2] + (k_factor * (quartiles[2] - quartiles[0])))]\n",
    "                                                     #checked this value with a calculator, it's correct\n",
    "\n",
    "for x in range(studentcount):\n",
    "    if statistics_data[x] > outlier_threshold[1]:\n",
    "        to_be_added = (student_names[x], statistics_data[x])\n",
    "        over_attended.append(to_be_added)\n",
    "    if statistics_data[x] < outlier_threshold[0]:\n",
    "        to_be_added = (student_names[x], statistics_data[x])\n",
    "        under_attended.append(to_be_added)\n",
    "                                                     #checked these results with a calculator, it's correct\n",
    "\n",
    "under_attended"
   ]
  },
  {
   "cell_type": "markdown",
   "id": "e5475655",
   "metadata": {},
   "source": []
  },
  {
   "cell_type": "markdown",
   "id": "77b182fc",
   "metadata": {},
   "source": [
    "<h3>Experiment 5: Compute the standard deviation for the Week 1 attendance data, then use 3 std deviations method to find the outliers.</h3>"
   ]
  },
  {
   "cell_type": "code",
   "execution_count": 5,
   "id": "10b7965f",
   "metadata": {},
   "outputs": [
    {
     "name": "stdout",
     "output_type": "stream",
     "text": [
      "Week 1's Standard Deviation: 45.02025687856262\n",
      "The lower-bound value for Week 1 is 25.939229364312155 and the upper-bound value for Week 1 is 296.06077063568785\n",
      "The outliers include:\n",
      "Owain Emerson\t\twho spent 9 minutes on the zoom call\n",
      "Alaya Dickinson\t\twho spent 24 minutes on the zoom call\n"
     ]
    }
   ],
   "source": [
    "#standard deviation\n",
    "outside_3_stdev = []\n",
    "std_dev1 = statistics.stdev(statistics_data)              #checked this value with a calculator, it's correct\n",
    "lower_bound1=mean1 - (3 * std_dev1)\n",
    "upper_bound1=mean1 + (3 * std_dev1)\n",
    "for x in range(studentcount):\n",
    "    to_be_compared = statistics_data[x]\n",
    "    if to_be_compared <  lower_bound1 or to_be_compared > upper_bound1:\n",
    "        to_be_added = (student_names[x], statistics_data[x])\n",
    "        outside_3_stdev.append(to_be_added)\n",
    "print(f\"Week 1's Standard Deviation: {std_dev1}\")\n",
    "print(f\"The lower-bound value for Week 1 is {lower_bound1} and the upper-bound value for Week 1 is {upper_bound1}\")\n",
    "print(\"The outliers include:\")\n",
    "for outlier in outside_3_stdev:\n",
    "    print(f\"{outlier[0]}\\t\\twho spent {outlier[1]} minutes on the zoom call\")"
   ]
  },
  {
   "cell_type": "markdown",
   "id": "160332cd",
   "metadata": {},
   "source": []
  },
  {
   "cell_type": "markdown",
   "id": "ab1213b0",
   "metadata": {},
   "source": [
    "<h3>Experiment 6: Define a function tardy_iqr() to repeat experiment 4</h3>"
   ]
  },
  {
   "cell_type": "code",
   "execution_count": 12,
   "id": "7193524c",
   "metadata": {},
   "outputs": [],
   "source": [
    "def tardy_iqr(week):\n",
    "    with open('participants.csv') as csv_data:\n",
    "        data_stream = csv.reader(csv_data, delimiter=',')\n",
    "        headers = next(data_stream)\n",
    "        if week not in headers:\n",
    "            print(f\"{week} was not found within the list of Headers\")\n",
    "            return\n",
    "        elif week == \"Student Name\":\n",
    "            print(\"'Student Name' is not a valid option\")\n",
    "            return\n",
    "        week_index=headers.index(week)\n",
    "        values=[int(row[week_index]) for row in data_stream]\n",
    "        over_attended = []\n",
    "        under_attended = []\n",
    "        k_factor = 1.5\n",
    "        quartiles = statistics.quantiles(values)\n",
    "        outlier_threshold = [(quartiles[0] - (k_factor * (quartiles[2] - quartiles[0]))), \n",
    "                     (quartiles[2] + (k_factor * (quartiles[2] - quartiles[0])))]\n",
    "                                                     #checked this value with a calculator, it's correct\n",
    "\n",
    "        for x in range(len(values)):\n",
    "            if values[x] > outlier_threshold[1]:\n",
    "                to_be_added = (student_names[x], values[x])\n",
    "                over_attended.append(to_be_added)\n",
    "            if values[x] < outlier_threshold[0]:\n",
    "                to_be_added = (student_names[x], values[x])\n",
    "                under_attended.append(to_be_added)\n",
    "    return under_attended"
   ]
  },
  {
   "cell_type": "markdown",
   "id": "4e3871ff",
   "metadata": {},
   "source": []
  },
  {
   "cell_type": "markdown",
   "id": "3daf96d9",
   "metadata": {},
   "source": [
    "<h3>Experiment 7: Define a function tardy_stdev() to repeat experiment </h3> "
   ]
  },
  {
   "cell_type": "code",
   "execution_count": 10,
   "id": "89f15ba2",
   "metadata": {},
   "outputs": [],
   "source": [
    "def tardy_stdev(week):\n",
    "    with open('participants.csv') as csv_data:\n",
    "        outside_3_stdev = []\n",
    "        data_stream = csv.reader(csv_data, delimiter=',')\n",
    "        headers = next(data_stream)\n",
    "        if week not in headers:\n",
    "            print(f\"{week} was not found within the list of Headers\")\n",
    "            return\n",
    "        elif week == \"Student Name\":\n",
    "            print(\"'Student Name' is not a valid option\")\n",
    "            return\n",
    "        week_index=headers.index(week)\n",
    "        values=[int(row[week_index]) for row in data_stream]\n",
    "        std_dev1 = statistics.stdev(values)              #checked this value with a calculator, it's correct\n",
    "        lower_bound1=mean1 - (3 * std_dev1)\n",
    "        upper_bound1=mean1 + (3 * std_dev1)\n",
    "        for x in range(len(values)):\n",
    "            to_be_compared = values[x]\n",
    "            if to_be_compared <  lower_bound1 or to_be_compared > upper_bound1:\n",
    "                to_be_added = (student_names[x], values[x])\n",
    "                outside_3_stdev.append(to_be_added)\n",
    "        return outside_3_stdev"
   ]
  },
  {
   "cell_type": "markdown",
   "id": "23df0a7a",
   "metadata": {},
   "source": []
  },
  {
   "cell_type": "markdown",
   "id": "4e29dd79",
   "metadata": {},
   "source": [
    "<h3>Experiment 8: Compare the results of tardy_iqr() and tardy_stdev() on Weeks 2-5.</h3>"
   ]
  },
  {
   "cell_type": "code",
   "execution_count": 17,
   "id": "63b040a7",
   "metadata": {},
   "outputs": [
    {
     "data": {
      "text/plain": [
       "[('Jazmin Foreman', 35),\n",
       " ('Sanjay Edwards', 66),\n",
       " ('Alfie-James Pierce', 74),\n",
       " ('Saffa Brook', 143)]"
      ]
     },
     "execution_count": 17,
     "metadata": {},
     "output_type": "execute_result"
    }
   ],
   "source": [
    "tardy_iqr(\"Week 5\")"
   ]
  },
  {
   "cell_type": "markdown",
   "id": "fc194f59",
   "metadata": {},
   "source": []
  },
  {
   "cell_type": "code",
   "execution_count": null,
   "id": "3599b3e9",
   "metadata": {},
   "outputs": [],
   "source": []
  }
 ],
 "metadata": {
  "kernelspec": {
   "display_name": "Python 3",
   "language": "python",
   "name": "python3"
  },
  "language_info": {
   "codemirror_mode": {
    "name": "ipython",
    "version": 3
   },
   "file_extension": ".py",
   "mimetype": "text/x-python",
   "name": "python",
   "nbconvert_exporter": "python",
   "pygments_lexer": "ipython3",
   "version": "3.8.8"
  }
 },
 "nbformat": 4,
 "nbformat_minor": 5
}
