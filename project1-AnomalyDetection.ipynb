{
 "cells": [
  {
   "cell_type": "markdown",
   "id": "932a5de3",
   "metadata": {},
   "source": [
    "Fall 2021 - CPSC 483-02\n",
    "Project 1 - Anomaly Detection\n",
    "Sean Javiya\n",
    "Jake"
   ]
  },
  {
   "cell_type": "code",
   "execution_count": 48,
   "id": "ffa6769a",
   "metadata": {},
   "outputs": [
    {
     "name": "stdout",
     "output_type": "stream",
     "text": [
      "['Adrian Ellison', '77', '154', '4', '170', '175']\n",
      "['Ophelia Mcphee', '179', '151', '164', '173', '171']\n",
      "['Yasir Fenton', '180', '47', '164', '168', '169']\n",
      "['Benny Arias', '180', '152', '161', '170', '170']\n",
      "['Tamara Cottrell', '183', '79', '161', '173', '168']\n",
      "['Jada Calhoun', '178', '147', '162', '171', '175']\n",
      "['Marlene Parry', '174', '150', '159', '171', '170']\n",
      "['Jazmin Foreman', '181', '103', '157', '172', '35']\n",
      "['Bear Zuniga', '180', '131', '160', '170', '182']\n",
      "['Sanjay Edwards', '173', '154', '161', '171', '66']\n",
      "['Vicki Person', '178', '156', '161', '172', '173']\n",
      "['Teegan Fleming', '183', '153', '156', '167', '161']\n",
      "['Alfie-James Pierce', '180', '150', '155', '172', '74']\n",
      "['Waleed Wagstaff', '174', '153', '161', '168', '176']\n",
      "['Miles Lyons', '177', '2', '160', '173', '169']\n",
      "['Ayrton Justice', '178', '153', '160', '169', '175']\n",
      "['Adeline Jordan', '179', '152', '105', '172', '195']\n",
      "['Katelyn Beard', '179', '146', '164', '170', '171']\n",
      "['Lindsey Fuller', '177', '157', '159', '172', '174']\n",
      "['Annabell Hart', '177', '155', '162', '171', '174']\n",
      "['Tayla Sparrow', '51', '154', '166', '170', '174']\n",
      "['Kai Cabrera', '170', '151', '160', '173', '168']\n",
      "['Rosie Higgins', '175', '153', '157', '172', '170']\n",
      "['Dora Delacruz', '175', '147', '161', '316', '175']\n",
      "['Daniella Gould', '176', '153', '167', '173', '167']\n",
      "['Shaquille Wood', '175', '154', '165', '184', '170']\n",
      "['Aditi Abbott', '175', '148', '168', '168', '171']\n",
      "['Gabija Whitney', '175', '153', '165', '172', '178']\n",
      "['Fynn Robin', '170', '154', '163', '173', '175']\n",
      "['Jaye Sweeney', '174', '156', '121', '169', '168']\n",
      "['Saffa Brook', '175', '154', '164', '171', '143']\n",
      "['Kameron Anthony', '174', '157', '149', '169', '169']\n",
      "['Owain Emerson', '9', '290', '163', '170', '164']\n",
      "[\"Tim O'Connor\", '170', '155', '157', '171', '174']\n",
      "['Alaya Dickinson', '24', '154', '161', '170', '174']\n",
      "There are 34 students in the 5 week course.\n"
     ]
    }
   ],
   "source": [
    "import csv\n",
    "with open('participants.csv') as csv_data:\n",
    "    data_stream = csv.reader(csv_data, delimiter=',')\n",
    "    linecount = -1\n",
    "    colcount = len(next(data_stream))\n",
    "    colcount -=1\n",
    "    for row in data_stream:\n",
    "        print(row)\n",
    "        linecount +=1\n",
    "    \n",
    "    print(f'There are {linecount} students in the {colcount} week course.')"
   ]
  },
  {
   "cell_type": "code",
   "execution_count": 83,
   "id": "32f949ee",
   "metadata": {},
   "outputs": [
    {
     "data": {
      "text/plain": [
       "[174.0, 175.0, 179.0]"
      ]
     },
     "execution_count": 83,
     "metadata": {},
     "output_type": "execute_result"
    }
   ],
   "source": [
    "import statistics\n",
    "headers = []\n",
    "students = []\n",
    "statistics_data = []\n",
    "with open('participants.csv') as csv_data:\n",
    "    data_stream = csv.reader(csv_data, delimiter=',')\n",
    "    headers = next(data_stream)\n",
    "    for row in data_stream:\n",
    "        students.append(row)\n",
    "\n",
    "for x in range(linecount+1):\n",
    "    statistics_data.append(int(students[x][1])) #week 1 data for each row\n",
    "\n",
    "#     for x in range(1, colcount+1):\n",
    "#         statistics_data.append(int(students[0][x]))\n",
    "\n",
    "mean = statistics.mean(statistics_data)\n",
    "median = statistics.median(statistics_data)\n",
    "quartiles = statistics.quantiles(statistics_data)  #n=4 is the default, we do not need to type it out\n",
    "quartiles"
   ]
  },
  {
   "cell_type": "code",
   "execution_count": 86,
   "id": "9f2a8b2e",
   "metadata": {},
   "outputs": [
    {
     "data": {
      "text/plain": [
       "[166.5, 186.5]"
      ]
     },
     "execution_count": 86,
     "metadata": {},
     "output_type": "execute_result"
    }
   ],
   "source": [
    "#tukeyfences\n",
    "k_factor = 1.5\n",
    "outlier_threshold = [(quartiles[0] - (k_factor * (quartiles[2] - quartiles[0]))), \n",
    "                     (quartiles[2] + (k_factor * (quartiles[2] - quartiles[0])))]\n",
    "outlier_threshold"
   ]
  },
  {
   "cell_type": "code",
   "execution_count": null,
   "id": "956a0ba5",
   "metadata": {},
   "outputs": [],
   "source": []
  }
 ],
 "metadata": {
  "kernelspec": {
   "display_name": "Python 3",
   "language": "python",
   "name": "python3"
  },
  "language_info": {
   "codemirror_mode": {
    "name": "ipython",
    "version": 3
   },
   "file_extension": ".py",
   "mimetype": "text/x-python",
   "name": "python",
   "nbconvert_exporter": "python",
   "pygments_lexer": "ipython3",
   "version": "3.8.8"
  }
 },
 "nbformat": 4,
 "nbformat_minor": 5
}
